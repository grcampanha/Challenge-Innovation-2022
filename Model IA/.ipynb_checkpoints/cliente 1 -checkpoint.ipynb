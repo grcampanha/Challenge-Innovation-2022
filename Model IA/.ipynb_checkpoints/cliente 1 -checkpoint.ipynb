{
 "cells": [
  {
   "cell_type": "code",
   "execution_count": 2,
   "id": "f9d017b0",
   "metadata": {},
   "outputs": [],
   "source": [
    "import pandas as pd\n",
    "import pyodbc \n",
    "from joblib import dump, load"
   ]
  },
  {
   "cell_type": "code",
   "execution_count": 4,
   "id": "b6cddaf5",
   "metadata": {},
   "outputs": [],
   "source": [
    "#pip install pandas\n",
    "#pip install pyodbc\n",
    "#pip install joblib\n",
    "#pip install scikit-learn"
   ]
  },
  {
   "cell_type": "code",
   "execution_count": null,
   "id": "72c81159",
   "metadata": {},
   "outputs": [],
   "source": []
  },
  {
   "cell_type": "code",
   "execution_count": 3,
   "id": "2c2cc0c1",
   "metadata": {},
   "outputs": [
    {
     "name": "stdout",
     "output_type": "stream",
     "text": [
      "Conectado\n"
     ]
    }
   ],
   "source": [
    "dados_conexao = (\n",
    "    \"Driver={SQL Server};\"\n",
    "    \"Server=DESKTOP-FETGEDT;\"\n",
    "    \"Database=REVOSOFT;\"\n",
    ")\n",
    "\n",
    "conexao = pyodbc.connect(dados_conexao)\n",
    "print(\"Conectado\")\n",
    "\n",
    "cursor = conexao.cursor()\n"
   ]
  },
  {
   "cell_type": "code",
   "execution_count": 9,
   "id": "8935865e",
   "metadata": {},
   "outputs": [],
   "source": [
    "#inserir valores no banco\n",
    "\n",
    "inserir = \"\"\"    \n",
    "    \n",
    "    INSERT INTO Usuarios(Nome, Sobrenome, Senha, Email, Telefone) VALUES \n",
    "    ('Guilherme', 'Rosa', 'revosoft', 'guilhermeRevosoft@gmail.com','(11)91111-2222' );\n",
    "    \n",
    "    INSERT INTO Veiculos(Modelo, Ano, Placa, UsuariosId) VALUES \n",
    "   ('Territory', '2023', 'XXXXXX', 1 );\n",
    "  \"\"\"\n",
    "cursor.execute(inserir)\n",
    "cursor.commit()\n"
   ]
  },
  {
   "cell_type": "code",
   "execution_count": 4,
   "id": "07a94c9e",
   "metadata": {},
   "outputs": [
    {
     "name": "stderr",
     "output_type": "stream",
     "text": [
      "C:\\Users\\guilh\\AppData\\Local\\Programs\\Python\\Python310\\lib\\site-packages\\pandas\\io\\sql.py:761: UserWarning: pandas only support SQLAlchemy connectable(engine/connection) ordatabase string URI or sqlite3 DBAPI2 connectionother DBAPI2 objects are not tested, please consider using SQLAlchemy\n",
      "  warnings.warn(\n"
     ]
    }
   ],
   "source": [
    "query = \"\"\"select * from Sensores where VeiculosId = 1\"\"\"\n",
    "\n",
    "df = pd.read_sql(query, conexao)"
   ]
  },
  {
   "cell_type": "code",
   "execution_count": 5,
   "id": "e43a5794",
   "metadata": {},
   "outputs": [
    {
     "data": {
      "text/html": [
       "<div>\n",
       "<style scoped>\n",
       "    .dataframe tbody tr th:only-of-type {\n",
       "        vertical-align: middle;\n",
       "    }\n",
       "\n",
       "    .dataframe tbody tr th {\n",
       "        vertical-align: top;\n",
       "    }\n",
       "\n",
       "    .dataframe thead th {\n",
       "        text-align: right;\n",
       "    }\n",
       "</style>\n",
       "<table border=\"1\" class=\"dataframe\">\n",
       "  <thead>\n",
       "    <tr style=\"text-align: right;\">\n",
       "      <th></th>\n",
       "      <th>SensorId</th>\n",
       "      <th>Temperatura</th>\n",
       "      <th>Tempo</th>\n",
       "      <th>Kms</th>\n",
       "      <th>VeiculosId</th>\n",
       "    </tr>\n",
       "  </thead>\n",
       "  <tbody>\n",
       "    <tr>\n",
       "      <th>0</th>\n",
       "      <td>1</td>\n",
       "      <td>90.0</td>\n",
       "      <td>99.0</td>\n",
       "      <td>10.0</td>\n",
       "      <td>1</td>\n",
       "    </tr>\n",
       "    <tr>\n",
       "      <th>1</th>\n",
       "      <td>2</td>\n",
       "      <td>85.0</td>\n",
       "      <td>100.0</td>\n",
       "      <td>20.0</td>\n",
       "      <td>1</td>\n",
       "    </tr>\n",
       "    <tr>\n",
       "      <th>2</th>\n",
       "      <td>3</td>\n",
       "      <td>91.0</td>\n",
       "      <td>101.0</td>\n",
       "      <td>30.0</td>\n",
       "      <td>1</td>\n",
       "    </tr>\n",
       "    <tr>\n",
       "      <th>3</th>\n",
       "      <td>4</td>\n",
       "      <td>102.0</td>\n",
       "      <td>102.0</td>\n",
       "      <td>40.0</td>\n",
       "      <td>1</td>\n",
       "    </tr>\n",
       "    <tr>\n",
       "      <th>4</th>\n",
       "      <td>5</td>\n",
       "      <td>95.0</td>\n",
       "      <td>104.0</td>\n",
       "      <td>50.0</td>\n",
       "      <td>1</td>\n",
       "    </tr>\n",
       "  </tbody>\n",
       "</table>\n",
       "</div>"
      ],
      "text/plain": [
       "   SensorId  Temperatura  Tempo   Kms  VeiculosId\n",
       "0         1         90.0   99.0  10.0           1\n",
       "1         2         85.0  100.0  20.0           1\n",
       "2         3         91.0  101.0  30.0           1\n",
       "3         4        102.0  102.0  40.0           1\n",
       "4         5         95.0  104.0  50.0           1"
      ]
     },
     "execution_count": 5,
     "metadata": {},
     "output_type": "execute_result"
    }
   ],
   "source": [
    "df.head()"
   ]
  },
  {
   "cell_type": "code",
   "execution_count": 3,
   "id": "bd4dd9b5",
   "metadata": {},
   "outputs": [
    {
     "name": "stderr",
     "output_type": "stream",
     "text": [
      "C:\\Users\\guilh\\AppData\\Local\\Programs\\Python\\Python310\\lib\\site-packages\\sklearn\\base.py:329: UserWarning: Trying to unpickle estimator DecisionTreeClassifier from version 1.0.2 when using version 1.1.2. This might lead to breaking code or invalid results. Use at your own risk. For more info please refer to:\n",
      "https://scikit-learn.org/stable/model_persistence.html#security-maintainability-limitations\n",
      "  warnings.warn(\n",
      "C:\\Users\\guilh\\AppData\\Local\\Programs\\Python\\Python310\\lib\\site-packages\\sklearn\\base.py:329: UserWarning: Trying to unpickle estimator RandomForestClassifier from version 1.0.2 when using version 1.1.2. This might lead to breaking code or invalid results. Use at your own risk. For more info please refer to:\n",
      "https://scikit-learn.org/stable/model_persistence.html#security-maintainability-limitations\n",
      "  warnings.warn(\n"
     ]
    }
   ],
   "source": [
    "modelo = load('modelo.joblib') \n"
   ]
  },
  {
   "cell_type": "code",
   "execution_count": 27,
   "id": "78450282",
   "metadata": {},
   "outputs": [
    {
     "name": "stdout",
     "output_type": "stream",
     "text": [
      "1\n",
      "2\n",
      "3\n",
      "4\n",
      "5\n",
      "inserido com sucesso\n"
     ]
    }
   ],
   "source": [
    "suporte_score= 0\n",
    "for i in range(len(df)):\n",
    "    if df['Temperatura'].loc[i] >= 101 or df['Temperatura'].loc[i] <= 83:\n",
    "        suporte_score += 1\n",
    "        print(suporte_score)\n",
    "        \n",
    "inserirValores(encontrarUltimo(), suporte_score)    \n",
    "    "
   ]
  },
  {
   "cell_type": "code",
   "execution_count": 25,
   "id": "9bc8649e",
   "metadata": {},
   "outputs": [],
   "source": [
    "def inserirValores(pecas, scoreCalc):\n",
    "    inserir = f\"\"\"INSERT INTO Pecas (MotorScore, CambioScore, PneuScore, VeiculosId) VALUES \n",
    "          ({pecas[1]}, {pecas[2]}, {pecas[3]}, {pecas[4]} )\"\"\"      \n",
    "\n",
    "\n",
    "    cursor.execute(inserir)\n",
    "    cursor.commit()\n",
    "    \n",
    "    print(\"inserido com sucesso\")"
   ]
  },
  {
   "cell_type": "code",
   "execution_count": 24,
   "id": "eceb0373",
   "metadata": {},
   "outputs": [
    {
     "name": "stdout",
     "output_type": "stream",
     "text": [
      "(3, Decimal('10.00'), Decimal('3.50'), Decimal('10.00'), 1)\n"
     ]
    }
   ],
   "source": [
    "print(encontrarUltimo())"
   ]
  },
  {
   "cell_type": "code",
   "execution_count": 19,
   "id": "c776fb85",
   "metadata": {},
   "outputs": [],
   "source": [
    "\n",
    "def encontrarUltimo():\n",
    "    \n",
    "    ultimo = \"\"\"  SELECT TOP (1) * FROM [Revosoft].[dbo].[Pecas] WHERE VeiculosId = 1 ORDER BY PecasId DESC\"\"\"\n",
    "    cursor.execute(ultimo)\n",
    "    cambio = cursor.fetchone()\n",
    "    return cambio"
   ]
  },
  {
   "cell_type": "code",
   "execution_count": 56,
   "id": "93532343",
   "metadata": {},
   "outputs": [
    {
     "name": "stdout",
     "output_type": "stream",
     "text": [
      "Revisao\n",
      "INSERT INTO IA (veiculo_id, dia, status) VALUES \n",
      "      (1, '25/08/2022', 'Revisao')\n",
      "Bom\n",
      "INSERT INTO IA (veiculo_id, dia, status) VALUES \n",
      "      (2, '25/08/2022', 'Bom')\n",
      "Ruim\n",
      "INSERT INTO IA (veiculo_id, dia, status) VALUES \n",
      "      (3, '25/08/2022', 'Ruim')\n"
     ]
    },
    {
     "name": "stderr",
     "output_type": "stream",
     "text": [
      "c:\\users\\marco\\appdata\\local\\programs\\python\\python39\\lib\\site-packages\\sklearn\\base.py:450: UserWarning: X does not have valid feature names, but RandomForestClassifier was fitted with feature names\n",
      "  warnings.warn(\n",
      "c:\\users\\marco\\appdata\\local\\programs\\python\\python39\\lib\\site-packages\\sklearn\\base.py:450: UserWarning: X does not have valid feature names, but RandomForestClassifier was fitted with feature names\n",
      "  warnings.warn(\n",
      "c:\\users\\marco\\appdata\\local\\programs\\python\\python39\\lib\\site-packages\\sklearn\\base.py:450: UserWarning: X does not have valid feature names, but RandomForestClassifier was fitted with feature names\n",
      "  warnings.warn(\n"
     ]
    }
   ],
   "source": [
    "for veiculo in lista:\n",
    "    model = modelo.predict([[veiculo[2],veiculo[3],veiculo[4], veiculo[5], veiculo[6]]])\n",
    "\n",
    "    status = model[0]\n",
    "    alocar = f\"\"\"INSERT INTO IA (veiculo_id, dia, status) VALUES \n",
    "      ({veiculo[0]}, '25/08/2022', '{status}')\"\"\"\n",
    "    print(status)\n",
    "    print(alocar)\n",
    "    cursor.execute(alocar)\n",
    "    cursor.commit()\n",
    "    "
   ]
  },
  {
   "cell_type": "code",
   "execution_count": 6,
   "id": "7018c820",
   "metadata": {},
   "outputs": [],
   "source": [
    "cliente1 = pd.read_csv('Cliente 1/cliente-1.csv')"
   ]
  },
  {
   "cell_type": "code",
   "execution_count": 7,
   "id": "50912990",
   "metadata": {},
   "outputs": [
    {
     "data": {
      "text/html": [
       "<div>\n",
       "<style scoped>\n",
       "    .dataframe tbody tr th:only-of-type {\n",
       "        vertical-align: middle;\n",
       "    }\n",
       "\n",
       "    .dataframe tbody tr th {\n",
       "        vertical-align: top;\n",
       "    }\n",
       "\n",
       "    .dataframe thead th {\n",
       "        text-align: right;\n",
       "    }\n",
       "</style>\n",
       "<table border=\"1\" class=\"dataframe\">\n",
       "  <thead>\n",
       "    <tr style=\"text-align: right;\">\n",
       "      <th></th>\n",
       "      <th>Temperatura</th>\n",
       "      <th>Dias</th>\n",
       "    </tr>\n",
       "  </thead>\n",
       "  <tbody>\n",
       "    <tr>\n",
       "      <th>0</th>\n",
       "      <td>90</td>\n",
       "      <td>99</td>\n",
       "    </tr>\n",
       "    <tr>\n",
       "      <th>1</th>\n",
       "      <td>85</td>\n",
       "      <td>100</td>\n",
       "    </tr>\n",
       "    <tr>\n",
       "      <th>2</th>\n",
       "      <td>91</td>\n",
       "      <td>101</td>\n",
       "    </tr>\n",
       "    <tr>\n",
       "      <th>3</th>\n",
       "      <td>102</td>\n",
       "      <td>102</td>\n",
       "    </tr>\n",
       "    <tr>\n",
       "      <th>4</th>\n",
       "      <td>95</td>\n",
       "      <td>103</td>\n",
       "    </tr>\n",
       "    <tr>\n",
       "      <th>5</th>\n",
       "      <td>75</td>\n",
       "      <td>104</td>\n",
       "    </tr>\n",
       "    <tr>\n",
       "      <th>6</th>\n",
       "      <td>105</td>\n",
       "      <td>105</td>\n",
       "    </tr>\n",
       "    <tr>\n",
       "      <th>7</th>\n",
       "      <td>110</td>\n",
       "      <td>106</td>\n",
       "    </tr>\n",
       "    <tr>\n",
       "      <th>8</th>\n",
       "      <td>107</td>\n",
       "      <td>107</td>\n",
       "    </tr>\n",
       "  </tbody>\n",
       "</table>\n",
       "</div>"
      ],
      "text/plain": [
       "   Temperatura  Dias\n",
       "0           90    99\n",
       "1           85   100\n",
       "2           91   101\n",
       "3          102   102\n",
       "4           95   103\n",
       "5           75   104\n",
       "6          105   105\n",
       "7          110   106\n",
       "8          107   107"
      ]
     },
     "execution_count": 7,
     "metadata": {},
     "output_type": "execute_result"
    }
   ],
   "source": [
    "cliente1.head(12)"
   ]
  },
  {
   "cell_type": "code",
   "execution_count": 10,
   "id": "6244da1b",
   "metadata": {},
   "outputs": [
    {
     "name": "stdout",
     "output_type": "stream",
     "text": [
      "1.3\n",
      "2.6\n",
      "3.9000000000000004\n",
      "5.2\n",
      "6.5\n"
     ]
    }
   ],
   "source": [
    "suporte_score= 0\n",
    "for i in range(len(cliente1)):\n",
    "    if cliente1['Temperatura'].loc[i] >= 101 or cliente1['Temperatura'].loc[i] <= 83:\n",
    "        suporte_score += 1\n",
    "        print(suporte_score*1.3)\n",
    "    \n",
    "    \n",
    "    "
   ]
  }
 ],
 "metadata": {
  "kernelspec": {
   "display_name": "Python 3 (ipykernel)",
   "language": "python",
   "name": "python3"
  },
  "language_info": {
   "codemirror_mode": {
    "name": "ipython",
    "version": 3
   },
   "file_extension": ".py",
   "mimetype": "text/x-python",
   "name": "python",
   "nbconvert_exporter": "python",
   "pygments_lexer": "ipython3",
   "version": "3.10.6"
  }
 },
 "nbformat": 4,
 "nbformat_minor": 5
}

{
 "cells": [
  {
   "cell_type": "code",
   "execution_count": 3,
   "id": "f9d017b0",
   "metadata": {},
   "outputs": [],
   "source": [
    "import pandas as pd\n",
    "import pyodbc \n",
    "from joblib import dump, load\n",
    "\n",
    "import os\n",
    "import smtplib\n",
    "from email.mime.multipart import MIMEMultipart\n",
    "from email.mime.text import MIMEText\n",
    "\n",
    "email = 'revosoft6@gmail.com'\n",
    "senha = 'vxxqsdeshpdherzy'"
   ]
  },
  {
   "cell_type": "code",
   "execution_count": 26,
   "id": "b6cddaf5",
   "metadata": {},
   "outputs": [],
   "source": [
    "#pip install pandas\n",
    "#pip install pyodbc\n",
    "#pip install joblib\n",
    "#pip install scikit-learn\n"
   ]
  },
  {
   "cell_type": "code",
   "execution_count": 4,
   "id": "2c2cc0c1",
   "metadata": {},
   "outputs": [
    {
     "name": "stdout",
     "output_type": "stream",
     "text": [
      "Conectado\n",
      "Conectado com o banco de dados\n"
     ]
    }
   ],
   "source": [
    "dados_conexao = (\n",
    "    \"Driver={SQL Server};\"\n",
    "    \"Server=DESKTOP-FETGEDT;\"\n",
    "    \"Database=REVOSOFT;\"\n",
    ")\n",
    "\n",
    "conexao = pyodbc.connect(dados_conexao)\n",
    "\n",
    "cursor = conexao.cursor()\n",
    "\n",
    "print('Conectado com o banco de dados')"
   ]
  },
  {
   "cell_type": "code",
   "execution_count": 45,
   "id": "07a94c9e",
   "metadata": {},
   "outputs": [
    {
     "name": "stderr",
     "output_type": "stream",
     "text": [
      "C:\\Users\\guilh\\AppData\\Local\\Programs\\Python\\Python310\\lib\\site-packages\\pandas\\io\\sql.py:761: UserWarning: pandas only support SQLAlchemy connectable(engine/connection) ordatabase string URI or sqlite3 DBAPI2 connectionother DBAPI2 objects are not tested, please consider using SQLAlchemy\n",
      "  warnings.warn(\n"
     ]
    }
   ],
   "source": [
    "query = \"\"\"select * from Sensores where VeiculosId = 1\"\"\"\n",
    "df = pd.read_sql(query, conexao)\n",
    "print(\"buscando informações do banco\")"
   ]
  },
  {
   "cell_type": "code",
   "execution_count": 30,
   "id": "99e1f837",
   "metadata": {},
   "outputs": [],
   "source": []
  },
  {
   "cell_type": "code",
   "execution_count": 5,
   "id": "2a343eb4",
   "metadata": {},
   "outputs": [
    {
     "name": "stdout",
     "output_type": "stream",
     "text": [
      "(20, Decimal('100.00'), Decimal('100.00'), Decimal('100.00'), 1, Decimal('100.00'))\n"
     ]
    }
   ],
   "source": [
    "def encontrarUltimo():\n",
    "    \n",
    "    select = \"\"\"  SELECT TOP (1) * FROM [Revosoft].[dbo].[Pecas] WHERE VeiculosId = 1 ORDER BY PecasId DESC\"\"\"\n",
    "    cursor.execute(select)\n",
    "    ultimo = cursor.fetchone()\n",
    "    return ultimo\n"
   ]
  },
  {
   "cell_type": "code",
   "execution_count": 49,
   "id": "62b97b9a",
   "metadata": {},
   "outputs": [
    {
     "name": "stdout",
     "output_type": "stream",
     "text": [
      "1\n"
     ]
    },
    {
     "data": {
      "text/plain": [
       "((1, 'Felipe', 'Gabriel', '123456789', 'feehlipeeh014@hotmail.com', '11947214217'),\n",
       " (1, 'RVS-2022', 'Ranger', '2022/2022', 1, 1))"
      ]
     },
     "execution_count": 49,
     "metadata": {},
     "output_type": "execute_result"
    }
   ],
   "source": [
    "def buscaUsuario(idVeiculo):\n",
    "    \n",
    "    select = f\"\"\"  SELECT TOP (1) *, [VeiculosId] FROM [dbo].[Veiculos] WHERE [VeiculosId] ={idVeiculo}\"\"\"\n",
    "    cursor.execute(select)\n",
    "    veiculo = cursor.fetchone()\n",
    "    print (veiculo[4])\n",
    "    \n",
    "    select2 = f\"\"\"SELECT TOP (1) * from [Revosoft].[dbo].[Usuarios] WHERE [UsuariosId] = {veiculo[4]}\"\"\"\n",
    "    cursor.execute(select2)\n",
    "    usuario = cursor.fetchone()\n",
    "    \n",
    "    return usuario, veiculo"
   ]
  },
  {
   "cell_type": "code",
   "execution_count": 33,
   "id": "78450282",
   "metadata": {},
   "outputs": [],
   "source": [
    "def score_temperatura(ultimo_score):\n",
    "    for i in range(len(df)):\n",
    "        if df['Temperatura'].loc[i] >= 101 or df['Temperatura'].loc[i] <= 83:    \n",
    "            return(float(ultimo_score)-(float(ultimo_score)*(0.025)))\n",
    "    return(ultimo_score)"
   ]
  },
  {
   "cell_type": "code",
   "execution_count": 34,
   "id": "2dc31c41",
   "metadata": {},
   "outputs": [],
   "source": [
    "def score_kms(ultimo_score, kms):\n",
    "    kms_score=ultimo_score\n",
    "    for i in range(len(df)):\n",
    "        if df['Kms'].loc[i] >= kms:\n",
    "            kms= df['Kms'].loc[i] + 100\n",
    "            kms_score= (float(ultimo_score)-(float(ultimo_score)*0.02))\n",
    "    return(kms_score)"
   ]
  },
  {
   "cell_type": "code",
   "execution_count": 35,
   "id": "e2febf8e",
   "metadata": {},
   "outputs": [],
   "source": [
    "def score_tempo(ultimo_score, tempo):\n",
    "    for i in range(len(df)):\n",
    "        if df['Tempo'].loc[i] >= tempo:\n",
    "            tempo= df['Tempo'].loc[i] + 182\n",
    "            return(float(ultimo_score)-(float(ultimo_score)*0.25))\n",
    "    return(ultimo_score)"
   ]
  },
  {
   "cell_type": "code",
   "execution_count": 36,
   "id": "f8238983",
   "metadata": {},
   "outputs": [],
   "source": [
    "def score_bateria(ultimo_score, tempo):\n",
    "    for i in range(len(df)):\n",
    "        if df['Tempo'].loc[i] >= tempo:\n",
    "            tempo= df['Tempo'].loc[i] + 2\n",
    "            return(float(ultimo_score)-(float(ultimo_score)*0.02))\n",
    "    return(ultimo_score)"
   ]
  },
  {
   "cell_type": "code",
   "execution_count": 50,
   "id": "52b7b236",
   "metadata": {},
   "outputs": [
    {
     "name": "stdout",
     "output_type": "stream",
     "text": [
      "97.5 98.0 100.00 98.0\n"
     ]
    }
   ],
   "source": [
    "print(Tratando os dados...)"
   ]
  },
  {
   "cell_type": "code",
   "execution_count": 51,
   "id": "9bc8649e",
   "metadata": {},
   "outputs": [
    {
     "name": "stdout",
     "output_type": "stream",
     "text": [
      "INSERT INTO Pecas (MotorScore, CambioScore, PneuScore, VeiculosId, BateriaScore) VALUES \n",
      "          (100.00, 97.5, 100.00, 1, 98.0 )\n",
      "inserido com sucesso\n"
     ]
    }
   ],
   "source": [
    "def inserirValores(temperatura, kms, tempo, bateria, veiculo_id):\n",
    "    inserir = f\"\"\"INSERT INTO Pecas (MotorScore, CambioScore, PneuScore, VeiculosId, BateriaScore) VALUES \n",
    "          ({tempo}, {temperatura}, {tempo}, {veiculo_id}, {bateria} )\"\"\"      \n",
    "    \n",
    "    cursor.execute(inserir)\n",
    "    cursor.commit()\n",
    "    \n",
    "    print(\"informações inseridas no banco com sucesso\")\n",
    "inserirValores(score_temperatura(encontrarUltimo()[2]), score_kms(encontrarUltimo()[3], 100), score_tempo(encontrarUltimo()[1], 182), score_bateria(encontrarUltimo()[5], 2), 1)    "
   ]
  },
  {
   "cell_type": "code",
   "execution_count": 39,
   "id": "c776fb85",
   "metadata": {
    "scrolled": false
   },
   "outputs": [
    {
     "name": "stderr",
     "output_type": "stream",
     "text": [
      "C:\\Users\\guilh\\AppData\\Local\\Programs\\Python\\Python310\\lib\\site-packages\\sklearn\\base.py:329: UserWarning: Trying to unpickle estimator DecisionTreeClassifier from version 1.0.2 when using version 1.1.2. This might lead to breaking code or invalid results. Use at your own risk. For more info please refer to:\n",
      "https://scikit-learn.org/stable/model_persistence.html#security-maintainability-limitations\n",
      "  warnings.warn(\n",
      "C:\\Users\\guilh\\AppData\\Local\\Programs\\Python\\Python310\\lib\\site-packages\\sklearn\\base.py:329: UserWarning: Trying to unpickle estimator RandomForestClassifier from version 1.0.2 when using version 1.1.2. This might lead to breaking code or invalid results. Use at your own risk. For more info please refer to:\n",
      "https://scikit-learn.org/stable/model_persistence.html#security-maintainability-limitations\n",
      "  warnings.warn(\n",
      "C:\\Users\\guilh\\AppData\\Local\\Programs\\Python\\Python310\\lib\\site-packages\\sklearn\\base.py:450: UserWarning: X does not have valid feature names, but RandomForestClassifier was fitted with feature names\n",
      "  warnings.warn(\n"
     ]
    },
    {
     "data": {
      "text/plain": [
       "array(['Revisao'], dtype=object)"
      ]
     },
     "execution_count": 39,
     "metadata": {},
     "output_type": "execute_result"
    }
   ],
   "source": [
    "modelo = load('C:/Users/guilh/OneDrive/Documents/Revosoft/IA/FORD_NEXT_IA/IA/Modelo_IA.joblib')\n",
    "\n",
    "modelo.predict(([[0.8,0.5,0.9,0.7]]))"
   ]
  },
  {
   "cell_type": "code",
   "execution_count": 2,
   "id": "45246d36",
   "metadata": {},
   "outputs": [
    {
     "name": "stdout",
     "output_type": "stream",
     "text": [
      "Note: you may need to restart the kernel to use updated packages.\n"
     ]
    },
    {
     "name": "stderr",
     "output_type": "stream",
     "text": [
      "ERROR: unknown command \"unpickle\"\n",
      "\n"
     ]
    }
   ],
   "source": [
    "\n"
   ]
  },
  {
   "cell_type": "code",
   "execution_count": 40,
   "id": "93532343",
   "metadata": {},
   "outputs": [
    {
     "name": "stdout",
     "output_type": "stream",
     "text": [
      "1\n"
     ]
    },
    {
     "name": "stderr",
     "output_type": "stream",
     "text": [
      "C:\\Users\\guilh\\AppData\\Local\\Programs\\Python\\Python310\\lib\\site-packages\\sklearn\\base.py:450: UserWarning: X does not have valid feature names, but RandomForestClassifier was fitted with feature names\n",
      "  warnings.warn(\n"
     ]
    },
    {
     "name": "stdout",
     "output_type": "stream",
     "text": [
      "['Bom']\n"
     ]
    }
   ],
   "source": [
    "def IA_Email(score):\n",
    "    resposta = modelo.predict(([[score[1], score[2], score[3], score[4]]]))\n",
    "    \n",
    "    if (resposta == \"Bom\"):\n",
    "        \n",
    "        usuario = buscaUsuario(score[4])\n",
    "        \n",
    "        msg = MIMEMultipart()\n",
    "        msg['Subject'] = 'REVOSOFT ANALISE'\n",
    "        msg['From'] = email\n",
    "        msg['To'] = usuario[0][4]\n",
    "        mensagem = emailTemplate(resposta[0],usuario[1][1],usuario[1][2], usuario[1][3], usuario[0][1])\n",
    "        \n",
    "        msg.attach(MIMEText(mensagem, 'html'))  \n",
    "           \n",
    "        with smtplib.SMTP_SSL('smtp.gmail.com', 465) as smtp:\n",
    "            smtp.login(email,senha)\n",
    "            smtp.send_message(msg)\n",
    "            smtp.quit()\n",
    "            print(\"Avalição enviada para o email do Usuario\")\n",
    "       \n",
    "    return resposta\n",
    "\n",
    "print(IA_Email(encontrarUltimo()))"
   ]
  },
  {
   "cell_type": "code",
   "execution_count": null,
   "id": "9eb6d137",
   "metadata": {},
   "outputs": [],
   "source": []
  }
 ],
 "metadata": {
  "kernelspec": {
   "display_name": "Python 3 (ipykernel)",
   "language": "python",
   "name": "python3"
  },
  "language_info": {
   "codemirror_mode": {
    "name": "ipython",
    "version": 3
   },
   "file_extension": ".py",
   "mimetype": "text/x-python",
   "name": "python",
   "nbconvert_exporter": "python",
   "pygments_lexer": "ipython3",
   "version": "3.10.7"
  }
 },
 "nbformat": 4,
 "nbformat_minor": 5
}
